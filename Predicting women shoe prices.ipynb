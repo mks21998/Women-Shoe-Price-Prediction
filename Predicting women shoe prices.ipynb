{
 "cells": [
  {
   "cell_type": "markdown",
   "metadata": {},
   "source": [
    "# Predicting women shoe price\n",
    "\n",
    "## 1. Problem Statement - \n",
    "The objective here is to predict the min and max price of women shoes.\n"
   ]
  },
  {
   "cell_type": "code",
   "execution_count": 1,
   "metadata": {},
   "outputs": [],
   "source": [
    "#Step 1 - Import Libraries\n",
    "import pandas as pd\n",
    "import numpy as np\n",
    "%matplotlib inline\n",
    "import matplotlib.pyplot as plt\n",
    "import seaborn\n",
    "seaborn.set()"
   ]
  },
  {
   "cell_type": "code",
   "execution_count": 6,
   "metadata": {},
   "outputs": [],
   "source": [
    "#Step 2 - Loading the dataset\n",
    "dataset = pd.read_csv('data.csv', low_memory=False)"
   ]
  },
  {
   "cell_type": "code",
   "execution_count": 7,
   "metadata": {},
   "outputs": [
    {
     "name": "stdout",
     "output_type": "stream",
     "text": [
      "(33801, 52)\n"
     ]
    }
   ],
   "source": [
    "print dataset.shape"
   ]
  },
  {
   "cell_type": "markdown",
   "metadata": {},
   "source": [
    "So, we have 52 features and 33k rows. Since our objective is to determine price of shoes, we'll only select relevant features."
   ]
  },
  {
   "cell_type": "markdown",
   "metadata": {},
   "source": [
    "## 2. Hypothesis Generation\n",
    "\n",
    "After doing Chi-Squared tests, these are the columns that seem Statistically significant to our target feature \n",
    "1. id\n",
    "2. brand\n",
    "3. categories\n",
    "4. colors\n",
    "5. name\n",
    "6. prices.amountMin\n",
    "7. prices.amountMax\n",
    "8. prices.condition\n",
    "9. prices.currency\n",
    "10. prices.isSale\n",
    "11. prices.offer\n",
    "12. prices.returnPolicy\n",
    "13. prices.shippingFree\n",
    "14. prices.size\n",
    "\n",
    "## Exploratory Data Analysis"
   ]
  },
  {
   "cell_type": "code",
   "execution_count": 142,
   "metadata": {},
   "outputs": [],
   "source": [
    "#geneating a new feature called \"prices.amountAverage\""
   ]
  },
  {
   "cell_type": "code",
   "execution_count": 130,
   "metadata": {},
   "outputs": [],
   "source": [
    "columns = ['brand', 'prices.amountMin', 'prices.amountMax', 'prices.isSale', 'prices.currency']"
   ]
  },
  {
   "cell_type": "code",
   "execution_count": 132,
   "metadata": {},
   "outputs": [
    {
     "name": "stderr",
     "output_type": "stream",
     "text": [
      "c:\\python27\\lib\\site-packages\\ipykernel_launcher.py:2: SettingWithCopyWarning: \n",
      "A value is trying to be set on a copy of a slice from a DataFrame\n",
      "\n",
      "See the caveats in the documentation: http://pandas.pydata.org/pandas-docs/stable/indexing.html#indexing-view-versus-copy\n",
      "  \n",
      "c:\\python27\\lib\\site-packages\\ipykernel_launcher.py:3: SettingWithCopyWarning: \n",
      "A value is trying to be set on a copy of a slice from a DataFrame.\n",
      "Try using .loc[row_indexer,col_indexer] = value instead\n",
      "\n",
      "See the caveats in the documentation: http://pandas.pydata.org/pandas-docs/stable/indexing.html#indexing-view-versus-copy\n",
      "  This is separate from the ipykernel package so we can avoid doing imports until\n"
     ]
    }
   ],
   "source": [
    "shoes = dataset[columns]\n",
    "shoes.dropna(inplace=True)\n",
    "shoes['prices.amountAverage'] = (shoes['prices.amountMin'] + shoes['prices.amountMax']) / 2"
   ]
  },
  {
   "cell_type": "code",
   "execution_count": 133,
   "metadata": {},
   "outputs": [
    {
     "name": "stderr",
     "output_type": "stream",
     "text": [
      "c:\\python27\\lib\\site-packages\\ipykernel_launcher.py:4: SettingWithCopyWarning: \n",
      "A value is trying to be set on a copy of a slice from a DataFrame\n",
      "\n",
      "See the caveats in the documentation: http://pandas.pydata.org/pandas-docs/stable/indexing.html#indexing-view-versus-copy\n",
      "  after removing the cwd from sys.path.\n",
      "c:\\python27\\lib\\site-packages\\IPython\\core\\interactiveshell.py:2882: SettingWithCopyWarning: \n",
      "A value is trying to be set on a copy of a slice from a DataFrame\n",
      "\n",
      "See the caveats in the documentation: http://pandas.pydata.org/pandas-docs/stable/indexing.html#indexing-view-versus-copy\n",
      "  exec(code_obj, self.user_global_ns, self.user_ns)\n",
      "c:\\python27\\lib\\site-packages\\ipykernel_launcher.py:5: SettingWithCopyWarning: \n",
      "A value is trying to be set on a copy of a slice from a DataFrame\n",
      "\n",
      "See the caveats in the documentation: http://pandas.pydata.org/pandas-docs/stable/indexing.html#indexing-view-versus-copy\n",
      "  \"\"\"\n",
      "c:\\python27\\lib\\site-packages\\ipykernel_launcher.py:6: SettingWithCopyWarning: \n",
      "A value is trying to be set on a copy of a slice from a DataFrame\n",
      "\n",
      "See the caveats in the documentation: http://pandas.pydata.org/pandas-docs/stable/indexing.html#indexing-view-versus-copy\n",
      "  \n",
      "c:\\python27\\lib\\site-packages\\ipykernel_launcher.py:8: SettingWithCopyWarning: \n",
      "A value is trying to be set on a copy of a slice from a DataFrame\n",
      "\n",
      "See the caveats in the documentation: http://pandas.pydata.org/pandas-docs/stable/indexing.html#indexing-view-versus-copy\n",
      "  \n",
      "c:\\python27\\lib\\site-packages\\ipykernel_launcher.py:9: SettingWithCopyWarning: \n",
      "A value is trying to be set on a copy of a slice from a DataFrame\n",
      "\n",
      "See the caveats in the documentation: http://pandas.pydata.org/pandas-docs/stable/indexing.html#indexing-view-versus-copy\n",
      "  if __name__ == '__main__':\n",
      "c:\\python27\\lib\\site-packages\\ipykernel_launcher.py:10: SettingWithCopyWarning: \n",
      "A value is trying to be set on a copy of a slice from a DataFrame\n",
      "\n",
      "See the caveats in the documentation: http://pandas.pydata.org/pandas-docs/stable/indexing.html#indexing-view-versus-copy\n",
      "  # Remove the CWD from sys.path while we load stuff.\n",
      "c:\\python27\\lib\\site-packages\\ipykernel_launcher.py:12: SettingWithCopyWarning: \n",
      "A value is trying to be set on a copy of a slice from a DataFrame\n",
      "\n",
      "See the caveats in the documentation: http://pandas.pydata.org/pandas-docs/stable/indexing.html#indexing-view-versus-copy\n",
      "  if sys.path[0] == '':\n",
      "c:\\python27\\lib\\site-packages\\ipykernel_launcher.py:13: SettingWithCopyWarning: \n",
      "A value is trying to be set on a copy of a slice from a DataFrame\n",
      "\n",
      "See the caveats in the documentation: http://pandas.pydata.org/pandas-docs/stable/indexing.html#indexing-view-versus-copy\n",
      "  del sys.path[0]\n",
      "c:\\python27\\lib\\site-packages\\ipykernel_launcher.py:14: SettingWithCopyWarning: \n",
      "A value is trying to be set on a copy of a slice from a DataFrame\n",
      "\n",
      "See the caveats in the documentation: http://pandas.pydata.org/pandas-docs/stable/indexing.html#indexing-view-versus-copy\n",
      "  \n"
     ]
    }
   ],
   "source": [
    "# Transform different currency to USD\n",
    "for row in shoes.itertuples():\n",
    "    if row._5 == 'CAD':\n",
    "        shoes['prices.amountMin'][row.Index] *= 0.73\n",
    "        shoes['prices.amountMax'][row.Index] *= 0.73\n",
    "        shoes['prices.amountAverage'][row.Index] *= 0.73\n",
    "    elif row._5 == 'EUR':\n",
    "        shoes['prices.amountMin'][row.Index] *= 1.1\n",
    "        shoes['prices.amountMax'][row.Index] *= 1.1\n",
    "        shoes['prices.amountAverage'][row.Index] *= 1.1\n",
    "    elif row._5 == 'AUD':\n",
    "        shoes['prices.amountMin'][row.Index] *= 0.75\n",
    "        shoes['prices.amountMax'][row.Index] *= 0.75\n",
    "        shoes['prices.amountAverage'][row.Index] *= 0.75\n",
    "    elif row._5 == 'GPB':\n",
    "        shoes['prices.amountMin'][row.Index] *= 1.3\n",
    "        shoes['prices.amountMax'][row.Index] *= 1.3\n",
    "        shoes['prices.amountAverage'][row.Index] *= 1.3"
   ]
  },
  {
   "cell_type": "code",
   "execution_count": 143,
   "metadata": {},
   "outputs": [
    {
     "data": {
      "text/plain": [
       "<matplotlib.text.Text at 0x18edc790>"
      ]
     },
     "execution_count": 143,
     "metadata": {},
     "output_type": "execute_result"
    },
    {
     "data": {
      "image/png": "[encoded data removed]",
      "text/plain": [
       "<matplotlib.figure.Figure at 0x190e6b30>"
      ]
     },
     "metadata": {},
     "output_type": "display_data"
    }
   ],
   "source": [
    "data = shoes.groupby('brand')['prices.amountAverage'].mean().sort_values(ascending=False).head(10)\n",
    "ax = data.plot(kind='barh', figsize=(10, 6))\n",
    "ax.invert_yaxis()\n",
    "plt.xlabel('USD')\n",
    "plt.title('Average price brand')"
   ]
  },
  {
   "cell_type": "code",
   "execution_count": 136,
   "metadata": {},
   "outputs": [
    {
     "data": {
      "text/plain": [
       "<matplotlib.text.Text at 0x187d3790>"
      ]
     },
     "execution_count": 136,
     "metadata": {},
     "output_type": "execute_result"
    },
    {
     "data": {
      "image/png": "[encoded data removed]",
      "text/plain": [
       "<matplotlib.figure.Figure at 0x18348db0>"
      ]
     },
     "metadata": {},
     "output_type": "display_data"
    }
   ],
   "source": [
    "grouped = shoes.groupby('brand')['prices.amountAverage']\n",
    "data = grouped.apply(lambda x:x.max() - x.min()).sort_values(ascending=False).head(10)\n",
    "ax = data.plot(kind='barh', figsize=(10, 6))\n",
    "ax.invert_yaxis()\n",
    "plt.xlabel('Price(USD)')\n",
    "plt.title('Most widest distributed price brand')"
   ]
  },
  {
   "cell_type": "code",
   "execution_count": 137,
   "metadata": {},
   "outputs": [
    {
     "data": {
      "image/png": "[encoded data removed]",
      "text/plain": [
       "<matplotlib.figure.Figure at 0x18683730>"
      ]
     },
     "metadata": {},
     "output_type": "display_data"
    }
   ],
   "source": [
    "fig, axs = plt.subplots(2, 5, figsize=(15, 6))\n",
    "for idx, brand in enumerate(shoes['brand'].value_counts()[0:10].index):\n",
    "    axs[idx//5, idx%5].hist(shoes[shoes['brand'] == brand]['prices.amountAverage'], bins=20)\n",
    "    axs[idx//5, idx%5].set_title(brand)\n",
    "plt.suptitle('Price Distributions of Specific Brand')\n",
    "plt.tight_layout()\n",
    "fig.subplots_adjust(top=0.88)"
   ]
  },
  {
   "cell_type": "markdown",
   "metadata": {},
   "source": [
    "## 3. Data Cleaning"
   ]
  },
  {
   "cell_type": "markdown",
   "metadata": {},
   "source": [
    "Now, a Train and Test file is generated with above said features in 80:20 "
   ]
  },
  {
   "cell_type": "code",
   "execution_count": 125,
   "metadata": {},
   "outputs": [],
   "source": [
    "#Loading data\n",
    "train = pd.read_csv(\"train.csv\")\n",
    "test = pd.read_csv(\"test.csv\")"
   ]
  },
  {
   "cell_type": "code",
   "execution_count": 84,
   "metadata": {},
   "outputs": [
    {
     "name": "stdout",
     "output_type": "stream",
     "text": [
      "(26252, 14) (6564, 14) (32816, 14)\n"
     ]
    }
   ],
   "source": [
    "#Combining\n",
    "\n",
    "train['source']='train'\n",
    "test['source']='test'\n",
    "data = pd.concat([train, test],ignore_index=True)\n",
    "print train.shape, test.shape, data.shape"
   ]
  },
  {
   "cell_type": "code",
   "execution_count": 85,
   "metadata": {},
   "outputs": [
    {
     "data": {
      "text/plain": [
       "id                         0\n",
       "brand                      0\n",
       "categories                 0\n",
       "colors                 13576\n",
       "name                       0\n",
       "prices.amountMin           0\n",
       "prices.amountMax           0\n",
       "prices.condition       21781\n",
       "prices.currency            0\n",
       "prices.isSale              0\n",
       "prices.offer               0\n",
       "prices.returnPolicy    31442\n",
       "prices.shippingFree    29853\n",
       "source                     0\n",
       "dtype: int64"
      ]
     },
     "execution_count": 85,
     "metadata": {},
     "output_type": "execute_result"
    }
   ],
   "source": [
    "data.apply(lambda x: sum(x.isnull()))"
   ]
  },
  {
   "cell_type": "code",
   "execution_count": 86,
   "metadata": {},
   "outputs": [
    {
     "data": {
      "text/plain": [
       "id                      object\n",
       "brand                   object\n",
       "categories              object\n",
       "colors                  object\n",
       "name                    object\n",
       "prices.amountMin       float64\n",
       "prices.amountMax       float64\n",
       "prices.condition        object\n",
       "prices.currency         object\n",
       "prices.isSale             bool\n",
       "prices.offer            object\n",
       "prices.returnPolicy     object\n",
       "prices.shippingFree     object\n",
       "source                  object\n",
       "dtype: object"
      ]
     },
     "execution_count": 86,
     "metadata": {},
     "output_type": "execute_result"
    }
   ],
   "source": [
    "data.dtypes"
   ]
  },
  {
   "cell_type": "code",
   "execution_count": 53,
   "metadata": {},
   "outputs": [
    {
     "data": {
      "text/html": [
       "<div>\n",
       "<table border=\"1\" class=\"dataframe\">\n",
       "  <thead>\n",
       "    <tr style=\"text-align: right;\">\n",
       "      <th></th>\n",
       "      <th>id</th>\n",
       "      <th>brand</th>\n",
       "      <th>categories</th>\n",
       "      <th>colors</th>\n",
       "      <th>name</th>\n",
       "      <th>prices.amountMin</th>\n",
       "      <th>prices.amountMax</th>\n",
       "      <th>prices.condition</th>\n",
       "      <th>prices.currency</th>\n",
       "      <th>prices.isSale</th>\n",
       "      <th>prices.offer</th>\n",
       "      <th>prices.returnPolicy</th>\n",
       "      <th>prices.shippingFree</th>\n",
       "    </tr>\n",
       "  </thead>\n",
       "  <tbody>\n",
       "    <tr>\n",
       "      <th>0</th>\n",
       "      <td>AVpe__eOilAPnD_xSt-H</td>\n",
       "      <td>Novica</td>\n",
       "      <td>Access.,Clothing,Shoes,Women's Clothing</td>\n",
       "      <td>Purple</td>\n",
       "      <td>Handcrafted Alpaca Blend 'Purple Charisma' Swe...</td>\n",
       "      <td>62.99</td>\n",
       "      <td>62.99</td>\n",
       "      <td>NaN</td>\n",
       "      <td>USD</td>\n",
       "      <td>False</td>\n",
       "      <td>No</td>\n",
       "      <td>NaN</td>\n",
       "      <td>Yes</td>\n",
       "    </tr>\n",
       "    <tr>\n",
       "      <th>1</th>\n",
       "      <td>AVpe__eOilAPnD_xSt-H</td>\n",
       "      <td>Novica</td>\n",
       "      <td>Access.,Clothing,Shoes,Women's Clothing</td>\n",
       "      <td>Purple</td>\n",
       "      <td>Handcrafted Alpaca Blend 'Purple Charisma' Swe...</td>\n",
       "      <td>62.99</td>\n",
       "      <td>62.99</td>\n",
       "      <td>NaN</td>\n",
       "      <td>USD</td>\n",
       "      <td>False</td>\n",
       "      <td>No</td>\n",
       "      <td>NaN</td>\n",
       "      <td>NaN</td>\n",
       "    </tr>\n",
       "    <tr>\n",
       "      <th>2</th>\n",
       "      <td>AVpe__eOilAPnD_xSt-H</td>\n",
       "      <td>Novica</td>\n",
       "      <td>Access.,Clothing,Shoes,Women's Clothing</td>\n",
       "      <td>Purple</td>\n",
       "      <td>Handcrafted Alpaca Blend 'Purple Charisma' Swe...</td>\n",
       "      <td>62.99</td>\n",
       "      <td>62.99</td>\n",
       "      <td>NaN</td>\n",
       "      <td>USD</td>\n",
       "      <td>False</td>\n",
       "      <td>No</td>\n",
       "      <td>NaN</td>\n",
       "      <td>NaN</td>\n",
       "    </tr>\n",
       "    <tr>\n",
       "      <th>3</th>\n",
       "      <td>AVpe__eOilAPnD_xSt-H</td>\n",
       "      <td>Novica</td>\n",
       "      <td>Access.,Clothing,Shoes,Women's Clothing</td>\n",
       "      <td>Purple</td>\n",
       "      <td>Handcrafted Alpaca Blend 'Purple Charisma' Swe...</td>\n",
       "      <td>62.99</td>\n",
       "      <td>62.99</td>\n",
       "      <td>NaN</td>\n",
       "      <td>USD</td>\n",
       "      <td>False</td>\n",
       "      <td>No</td>\n",
       "      <td>NaN</td>\n",
       "      <td>NaN</td>\n",
       "    </tr>\n",
       "    <tr>\n",
       "      <th>4</th>\n",
       "      <td>AVpe__eOilAPnD_xSt-H</td>\n",
       "      <td>Novica</td>\n",
       "      <td>Access.,Clothing,Shoes,Women's Clothing</td>\n",
       "      <td>Purple</td>\n",
       "      <td>Handcrafted Alpaca Blend 'Purple Charisma' Swe...</td>\n",
       "      <td>62.99</td>\n",
       "      <td>62.99</td>\n",
       "      <td>NaN</td>\n",
       "      <td>USD</td>\n",
       "      <td>True</td>\n",
       "      <td>No</td>\n",
       "      <td>NaN</td>\n",
       "      <td>NaN</td>\n",
       "    </tr>\n",
       "  </tbody>\n",
       "</table>\n",
       "</div>"
      ],
      "text/plain": [
       "                     id   brand                               categories  \\\n",
       "0  AVpe__eOilAPnD_xSt-H  Novica  Access.,Clothing,Shoes,Women's Clothing   \n",
       "1  AVpe__eOilAPnD_xSt-H  Novica  Access.,Clothing,Shoes,Women's Clothing   \n",
       "2  AVpe__eOilAPnD_xSt-H  Novica  Access.,Clothing,Shoes,Women's Clothing   \n",
       "3  AVpe__eOilAPnD_xSt-H  Novica  Access.,Clothing,Shoes,Women's Clothing   \n",
       "4  AVpe__eOilAPnD_xSt-H  Novica  Access.,Clothing,Shoes,Women's Clothing   \n",
       "\n",
       "   colors                                               name  \\\n",
       "0  Purple  Handcrafted Alpaca Blend 'Purple Charisma' Swe...   \n",
       "1  Purple  Handcrafted Alpaca Blend 'Purple Charisma' Swe...   \n",
       "2  Purple  Handcrafted Alpaca Blend 'Purple Charisma' Swe...   \n",
       "3  Purple  Handcrafted Alpaca Blend 'Purple Charisma' Swe...   \n",
       "4  Purple  Handcrafted Alpaca Blend 'Purple Charisma' Swe...   \n",
       "\n",
       "   prices.amountMin  prices.amountMax prices.condition prices.currency  \\\n",
       "0             62.99             62.99              NaN             USD   \n",
       "1             62.99             62.99              NaN             USD   \n",
       "2             62.99             62.99              NaN             USD   \n",
       "3             62.99             62.99              NaN             USD   \n",
       "4             62.99             62.99              NaN             USD   \n",
       "\n",
       "  prices.isSale prices.offer prices.returnPolicy prices.shippingFree  \n",
       "0         False           No                 NaN                 Yes  \n",
       "1         False           No                 NaN                 NaN  \n",
       "2         False           No                 NaN                 NaN  \n",
       "3         False           No                 NaN                 NaN  \n",
       "4          True           No                 NaN                 NaN  "
      ]
     },
     "execution_count": 53,
     "metadata": {},
     "output_type": "execute_result"
    }
   ],
   "source": [
    "data.head()"
   ]
  },
  {
   "cell_type": "code",
   "execution_count": 87,
   "metadata": {
    "scrolled": true
   },
   "outputs": [
    {
     "data": {
      "text/html": [
       "<div>\n",
       "<table border=\"1\" class=\"dataframe\">\n",
       "  <thead>\n",
       "    <tr style=\"text-align: right;\">\n",
       "      <th></th>\n",
       "      <th>prices.amountMin</th>\n",
       "      <th>prices.amountMax</th>\n",
       "      <th>prices.isSale</th>\n",
       "    </tr>\n",
       "  </thead>\n",
       "  <tbody>\n",
       "    <tr>\n",
       "      <th>count</th>\n",
       "      <td>32816.000000</td>\n",
       "      <td>32816.000000</td>\n",
       "      <td>32816</td>\n",
       "    </tr>\n",
       "    <tr>\n",
       "      <th>mean</th>\n",
       "      <td>87.272877</td>\n",
       "      <td>88.377921</td>\n",
       "      <td>0.181893</td>\n",
       "    </tr>\n",
       "    <tr>\n",
       "      <th>std</th>\n",
       "      <td>146.210344</td>\n",
       "      <td>148.453794</td>\n",
       "      <td>0.385762</td>\n",
       "    </tr>\n",
       "    <tr>\n",
       "      <th>min</th>\n",
       "      <td>0.010000</td>\n",
       "      <td>0.010000</td>\n",
       "      <td>False</td>\n",
       "    </tr>\n",
       "    <tr>\n",
       "      <th>25%</th>\n",
       "      <td>33.590000</td>\n",
       "      <td>33.990000</td>\n",
       "      <td>0</td>\n",
       "    </tr>\n",
       "    <tr>\n",
       "      <th>50%</th>\n",
       "      <td>51.960000</td>\n",
       "      <td>51.990000</td>\n",
       "      <td>0</td>\n",
       "    </tr>\n",
       "    <tr>\n",
       "      <th>75%</th>\n",
       "      <td>87.960000</td>\n",
       "      <td>89.000000</td>\n",
       "      <td>0</td>\n",
       "    </tr>\n",
       "    <tr>\n",
       "      <th>max</th>\n",
       "      <td>4198.990000</td>\n",
       "      <td>4198.990000</td>\n",
       "      <td>True</td>\n",
       "    </tr>\n",
       "  </tbody>\n",
       "</table>\n",
       "</div>"
      ],
      "text/plain": [
       "       prices.amountMin  prices.amountMax prices.isSale\n",
       "count      32816.000000      32816.000000         32816\n",
       "mean          87.272877         88.377921      0.181893\n",
       "std          146.210344        148.453794      0.385762\n",
       "min            0.010000          0.010000         False\n",
       "25%           33.590000         33.990000             0\n",
       "50%           51.960000         51.990000             0\n",
       "75%           87.960000         89.000000             0\n",
       "max         4198.990000       4198.990000          True"
      ]
     },
     "execution_count": 87,
     "metadata": {},
     "output_type": "execute_result"
    }
   ],
   "source": [
    "data.describe()"
   ]
  },
  {
   "cell_type": "code",
   "execution_count": 88,
   "metadata": {},
   "outputs": [
    {
     "data": {
      "text/plain": [
       "id                     9112\n",
       "brand                  1360\n",
       "categories              875\n",
       "colors                 1827\n",
       "name                   8856\n",
       "prices.amountMin       3388\n",
       "prices.amountMax       3244\n",
       "prices.condition         11\n",
       "prices.currency           1\n",
       "prices.isSale             2\n",
       "prices.offer              2\n",
       "prices.returnPolicy       8\n",
       "prices.shippingFree       3\n",
       "source                    2\n",
       "dtype: int64"
      ]
     },
     "execution_count": 88,
     "metadata": {},
     "output_type": "execute_result"
    }
   ],
   "source": [
    "data.apply(lambda x: len(x.unique()))"
   ]
  },
  {
   "cell_type": "markdown",
   "metadata": {},
   "source": [
    "Differentiating Continous and Categorical Variables"
   ]
  },
  {
   "cell_type": "code",
   "execution_count": 89,
   "metadata": {},
   "outputs": [
    {
     "name": "stdout",
     "output_type": "stream",
     "text": [
      "\n",
      "Frequency of Categories for varible brand\n",
      "Journee Collection                1400\n",
      "Ralph Lauren                       991\n",
      "Skechers                           799\n",
      "Propet                             796\n",
      "Nike                               649\n",
      "Novica                             574\n",
      "Easy Spirit                        487\n",
      "TOMS                               408\n",
      "Drew                               387\n",
      "Soft Style                         365\n",
      "Rose Petals by Walking Cradles     359\n",
      "Aerosoles                          356\n",
      "Naturalizer                        354\n",
      "In-Sattva                          332\n",
      "David Tate                         330\n",
      "Nine West                          328\n",
      "SoftWalk                           317\n",
      "Nature Breeze                      301\n",
      "Dyeables                           301\n",
      "Trotters                           277\n",
      "Pleaser                            273\n",
      "Lugz                               265\n",
      "Touch Ups                          262\n",
      "Hadari                             258\n",
      "Nina                               257\n",
      "Ros Hommerson                      241\n",
      "Beston                             240\n",
      "VANS                               237\n",
      "Vaneli                             235\n",
      "Qupid                              227\n",
      "                                  ... \n",
      "Eric Michael lolasabbia              1\n",
      "BASKE california                     1\n",
      "Oneal                                1\n",
      "PAPRIKA                              1\n",
      "LuoLuo                               1\n",
      "361                                  1\n",
      "Tidewater                            1\n",
      "So For Her                           1\n",
      "The Petting Zoo                      1\n",
      "Boutique 58                          1\n",
      "Le Chameau                           1\n",
      "Tamaris                              1\n",
      "Genuine Grip                         1\n",
      "Born to Accessorize                  1\n",
      "Levi's                               1\n",
      "Simplicity                           1\n",
      "Fabulous Footwear                    1\n",
      "Anywear                              1\n",
      "Blondo                               1\n",
      "Nicole                               1\n",
      "MALONE SOULIERS                      1\n",
      "Kendall + Kylie                      1\n",
      "Etienne Aigner                       1\n",
      "Clarisse                             1\n",
      "Paris Hilton                         1\n",
      "Minnie Mouse                         1\n",
      "michael kors                         1\n",
      "Blushe                               1\n",
      "Lucky  Brand                         1\n",
      "Wanderlust                           1\n",
      "Name: brand, dtype: int64\n",
      "\n",
      "Frequency of Categories for varible categories\n",
      "Clothing,Shoes,Women's Shoes,All Women's Shoes                                                                                                                        3155\n",
      "Shoes,Women's Shoes,Clothing,All Women's Shoes                                                                                                                        2727\n",
      "Shoes,Clothing,Women's Shoes,All Women's Shoes                                                                                                                        1898\n",
      "Sandals,Shoes,Women's Shoes                                                                                                                                           1741\n",
      "Heels,Shoes,Women's Shoes                                                                                                                                             1678\n",
      "Shoes,Slip-ons,Women's Shoes                                                                                                                                          1456\n",
      "Boots,Shoes,Women's Shoes                                                                                                                                             1028\n",
      "Boots On Sale,Shoes,Women's Shoes,Boots                                                                                                                                827\n",
      "Booties,Shoes,Women's Shoes                                                                                                                                            815\n",
      "Shoes,Wedges,Women's Shoes                                                                                                                                             773\n",
      "Flats,Shoes,Women's Shoes                                                                                                                                              743\n",
      "Women,Shoes,Boots                                                                                                                                                      500\n",
      "Shoes,Women's Shoes,Womens' Athletic Shoes,Athletic                                                                                                                    476\n",
      "Boots On Sale,Shoes,Women's Shoes                                                                                                                                      458\n",
      "Access.,Clothing,Shoes,Women's Clothing                                                                                                                                400\n",
      "Heels,Shoes,Women's Shoes,Journee Collection                                                                                                                           400\n",
      "Shoes,Sneakers,Women's Shoes                                                                                                                                           379\n",
      "Loafers,Shoes,Women's Shoes                                                                                                                                            298\n",
      "Clogs,Mules,Shoes,Women's Shoes                                                                                                                                        289\n",
      "Access.,Clothing,Shoes,Women's Clothing,Novica,Worldstock Fair Trade                                                                                                   275\n",
      "Women's Shoes                                                                                                                                                          271\n",
      "Women,Shoes                                                                                                                                                            256\n",
      "Shoes,Women's Shoes,Women's Slippers                                                                                                                                   256\n",
      "Booties,Shoes,Women's Shoes,Clothing,All Women's Shoes                                                                                                                 203\n",
      "Clothing,Shoes,Women's Shoes,Women's Sandals                                                                                                                           181\n",
      "Shoes,Slip-ons,Women's Shoes,Propet                                                                                                                                    177\n",
      "Sandals,Women,Shoes                                                                                                                                                    165\n",
      "Women's Casual Shoes,Shoes,Women's Shoes,Clothing                                                                                                                      164\n",
      "Heels,Shoes,Women's Shoes,Sandals                                                                                                                                      162\n",
      "Shoes,Women's Shoes                                                                                                                                                    160\n",
      "                                                                                                                                                                      ... \n",
      "Women's Slippers,Gifts,Shoes,Mother's Day,Women's Shoes                                                                                                                  1\n",
      "Team Sports,Women's Cleats,Baseball Cleats,Fastpitch Softball,Shoes By Sport,Cleats,Fastpitch Softball Cleats                                                            1\n",
      "Team Sports,Women's Cleats,Outlet,Shoes Outlet,Soccer,Cleats,Women's Shoes                                                                                               1\n",
      "Loafers & Slip-Ons,Women,Shoes,Clothing, Shoes & Jewelry                                                                                                                 1\n",
      "Women,Shoes,Contemporary                                                                                                                                                 1\n",
      "Women's Shoes,Boots,See more Rampage Imelda Brown Tall Riding BOOTS Womens ...                                                                                           1\n",
      "New Arrivals,Women,Shoes,Contemporary                                                                                                                                    1\n",
      "Women's Bags  Shoes,Bags  Shoes,Handbags                                                                                                                                 1\n",
      "Outlet,Shoes Outlet,Cleats,Women's Shoes                                                                                                                                 1\n",
      "Clothing, Shoes & Accessories,Women's Shoes,Boots,See more Crush by Durango Womens Brown Heartbreaker Boo...                                                             1\n",
      "Women's Swimwear,Women's Clothing,Specialty Shops,Petite Clothing,Swimwear for the Family,All Women's Clothing,Clothing, Shoes & Jewelry,Clothing,Petite Swimsuits       1\n",
      "Women,Shoes,Sandals,Gladiator                                                                                                                                            1\n",
      "Gifts,Fashions for Her,Shoes,Women%27s,Valentine%27s Day                                                                                                                 1\n",
      "Designer Collections,Women,Flats,Designer Shoes                                                                                                                          1\n",
      "Footwear,Women's Footwear,Women's Casual Shoes,Canvas Shoes                                                                                                              1\n",
      "Designer Collections,Women,Designer Shoes                                                                                                                                1\n",
      "Women's Shoes,Athletic,See more Ryka Hydro Sport Blue Silver Womens Training S...                                                                                        1\n",
      "Women,Shoes,Shoes Under $100,Pumps                                                                                                                                       1\n",
      "Shop by Sport,Golf,Golf Shoes,Women's                                                                                                                                    1\n",
      "Women's Shoes,Boots,See more Seychelles Outspoken Women US 8 Black Knee Hig...                                                                                           1\n",
      "Women's Shoes,See more Born Silvie Women US 10 Black Loafer Pre Owned...                                                                                                 1\n",
      "Shoes,Boots,Women's Shoes                                                                                                                                                1\n",
      "Women's Shoes,See more Mercanti Fiorentini Destiny Women US 7 Black F...                                                                                                 1\n",
      "Women's Shoes,Boots,See more Women Bearpaw Knit Tall Boot 658w Black 100 Au...                                                                                           1\n",
      "Sporting Goods,Golf,Women's Golf Clothing,Golf Shoes                                                                                                                     1\n",
      "Women's Athletic Shoes,Shoes,Women's Shoes,Clothing,Women,Athletic                                                                                                       1\n",
      "Sneakers,Shoes,All Women's Shoes                                                                                                                                         1\n",
      "Women,Shoes,Pumps,D'Orsay                                                                                                                                                1\n",
      "Shoes,Men,Women,Sandals,Slides                                                                                                                                           1\n",
      "Team Sports,Women's Cleats,Soccer,Women's Shoes,Cleats                                                                                                                   1\n",
      "Name: categories, dtype: int64\n",
      "\n",
      "Frequency of Categories for varible colors\n",
      "Black                                                                                                                                2907\n",
      "Brown                                                                                                                                 962\n",
      "White                                                                                                                                 680\n",
      "Blue                                                                                                                                  604\n",
      "Silver                                                                                                                                383\n",
      "Beige                                                                                                                                 355\n",
      "Red                                                                                                                                   308\n",
      "Black,Brown                                                                                                                           282\n",
      "Pink                                                                                                                                  271\n",
      "Green                                                                                                                                 250\n",
      "Black,Tan                                                                                                                             245\n",
      "Gray                                                                                                                                  231\n",
      "Tan                                                                                                                                   217\n",
      "Grey                                                                                                                                  213\n",
      "Multicolor                                                                                                                            172\n",
      "Orange                                                                                                                                144\n",
      "Gold                                                                                                                                  144\n",
      "Black,Brown,Tan                                                                                                                       141\n",
      "Black,Brown,Grey                                                                                                                      130\n",
      "Black,Brown,Black Brown                                                                                                               123\n",
      "Yellow                                                                                                                                111\n",
      "RL Gold,Black                                                                                                                         109\n",
      "Brown,Black                                                                                                                            91\n",
      "Black,Tan,White                                                                                                                        80\n",
      "Dark Brown,Black,Saddle                                                                                                                79\n",
      "Black,Gold,Silver                                                                                                                      73\n",
      "Purple                                                                                                                                 71\n",
      "Black,Brown,Grey,Tan                                                                                                                   69\n",
      "Black,Brown,Grey,Red,Tan                                                                                                               67\n",
      "Black,Blue,Green,Grey,Multi,Purple,Red                                                                                                 67\n",
      "                                                                                                                                     ... \n",
      "Beige,Gold Cork,Gold,Natural Snake,Navy Croco,Navy,Teal Snake                                                                           1\n",
      "Elephant Grey                                                                                                                           1\n",
      "Black  Multi                                                                                                                            1\n",
      "WhiteBluePink                                                                                                                           1\n",
      "DBrnDBrn                                                                                                                                1\n",
      "TanBeige                                                                                                                                1\n",
      "BlackMulti                                                                                                                              1\n",
      "Blues                                                                                                                                   1\n",
      "Tan,Black,Taupe,Beige                                                                                                                   1\n",
      "Champagne,Golden Glow,Moonlight                                                                                                         1\n",
      "SpearmintDeep Forest                                                                                                                    1\n",
      "Frost Black,Frost Hot Pink,Frost Purple,Frost Silver,Frost Soft Pink,Frost Teal                                                         1\n",
      "Black Wide Calf                                                                                                                         1\n",
      "Blue,Ivory                                                                                                                              1\n",
      "Beige Pu,Black Pu,Blue Denim,Blue Pu,Brown Pu,Camouflage Cv,Hot Pink Pu,Ivory White Pu,Orange Pu,Purple Pu,Red Pu,Tan Pu,Zebra Pu       1\n",
      "neon Hpink,neon Green                                                                                                                   1\n",
      "Black,Fuschia,Yellow                                                                                                                    1\n",
      "Green  Brown,Orange  Grey                                                                                                               1\n",
      "Tan,Navy                                                                                                                                1\n",
      "Silver with Black                                                                                                                       1\n",
      "Black,Natural,Red                                                                                                                       1\n",
      "Cayenne,Other                                                                                                                           1\n",
      "Light TaupeBlack Leather                                                                                                                1\n",
      "Deep BlueWhiteHot Pink                                                                                                                  1\n",
      "Black,Black Pu,Tan Pu                                                                                                                   1\n",
      "Light Tan Mesh,Black,Dark Grey,Purple Mesh,Light Grey Mesh,Dark Grey Mesh,White Mesh,Black Mesh,Berry Mesh,Gray                         1\n",
      "Taupe,Cognac                                                                                                                            1\n",
      "Dark Blue Patent                                                                                                                        1\n",
      "Black,Taupe,Beige                                                                                                                       1\n",
      "Blue,Gold,Red,Silver                                                                                                                    1\n",
      "Name: colors, dtype: int64\n",
      "\n",
      "Frequency of Categories for varible name\n",
      "Women's Easy Spirit Traveltime Light Natural/White Suede by Easy Spirit                                                       130\n",
      "Vachetta Sabeen Riding Boot                                                                                                    79\n",
      "Liliana Women's EF63 Velvet Pom-pom Heels                                                                                      67\n",
      "Women's Propet Tour Walker™ Hook & Loop Sport White by Propet                                                                  60\n",
      "Beston DE11 Women's Lace Up Block Heel Side Zip Over The Knee High Combat Boots                                                60\n",
      "Women's Propet Bahama White by Propet                                                                                          59\n",
      "Women's Drew Ariana Slide Pewter Leather                                                                                       59\n",
      "Women's Drew Angela Dusty Multi Metallic                                                                                       57\n",
      "Journee Collection Women's 'Shelley-3' Slouch Mid-Calf Microsuede Boot by Journee Collection                                   57\n",
      "Women's Drew Cairo Brown Leather                                                                                               57\n",
      "Women's Ros Hommerson Meredith Strappy Sandal Black Leather                                                                    56\n",
      "Women's Ros Hommerson Mabel Sandal Dusty Pewter Leather                                                                        56\n",
      "Journee Collection Women's 'Kaylee' Canvas Ankle Strap Wedges                                                                  55\n",
      "Women's Drew Genoa Mary Jane Black Leather                                                                                     55\n",
      "Rina Suede Flat                                                                                                                54\n",
      "Journee Collection Women's 'Kat' Cut-out Caged Ankle Booties                                                                   54\n",
      "Women's Propet TravelLite Slip-On White Nylon by Propet                                                                        53\n",
      "Women's Propet TravelActiv Bungee Lace Shoe Silver Nylon Mesh/Polyurethane by Propet                                           53\n",
      "Women's Ros Hommerson Darby Tassel Loafer Wine Patent                                                                          53\n",
      "Journee Collection Women's 'Shelby' Platform Mary Jane Pumps by Journee Collection                                             53\n",
      "Women's Propet TravelActiv Bungee Lace Shoe White Nylon Mesh/Polyurethane by Propet                                            53\n",
      "Journee Collection Women's 'Tokyo' Pointed Toe Pumps by Journee Collection                                                     52\n",
      "Journee Collection Women's 'Lois' Peep-toe Platform Pumps by Journee Collection                                                51\n",
      "Women's Dyeables Anette Gold Metallic by Dyeables                                                                              51\n",
      "Women's Drew Krista Lace Up Bootie Brown Suede                                                                                 50\n",
      "Journee Collection Women's 'Bay' Patent Ankle Strap Pumps by Journee Collection                                                49\n",
      "Women's Propet TravelActiv Zip Up Sneaker Silver/Lime Mesh                                                                     49\n",
      "Journee Collection Women's 'Vika' Round Toe Bow Ballet Flats by Journee Collection                                             49\n",
      "Women's Ros Hommerson Delta Penny Loafer Coffee Leather                                                                        49\n",
      "Journee Collection Women's 'Angel' Regular and Wide-calf Faux Leather Inside Pocket Buckle Detail Bo by Journee Collection     48\n",
      "                                                                                                                             ... \n",
      "Nwt! Speedo Maryjane Blue/pink Water Shoes Woman's Juniors Sz L 4/5 = 7 Adult                                                   1\n",
      "Devious Domina-420 6 Inch Classic Pump (white;6)                                                                                1\n",
      "Mule Sandal (women)                                                                                                             1\n",
      "Nine West Women's Oleena Ballet Flat                                                                                            1\n",
      "Under Armour Women's Glyde Rm Cc Softball Cleats                                                                                1\n",
      "Lucky Brand Hibiscus 10 M Wheat Leather Pull-on Riding Boot Shoe $209 Jdu903                                                    1\n",
      "Women's Kenneth Cole New York Moira Wedge Bootie Black Suede                                                                    1\n",
      "Mossimo Women's Avery T Strap Cognac Flat Sandals Size 7.5 Brand New Ljv 427                                                    1\n",
      "'louie' Boot                                                                                                                    1\n",
      "Demonia Asst202/b Women's Goth Punk Knee High Platform Buckle Combat Boots Shoes                                                1\n",
      "La Gear Ladies La Lights Latw80-3 Red Black Womens Us Size 8                                                                    1\n",
      "Nike Women's Lunar Tempo Running Shoe                                                                                           1\n",
      "Guess Katura Women's Size 10 M Black Platform Heels New In Box                                                                  1\n",
      "Living Health Products Boob-004-04 Boob Slippers - Size: 8 Mens / 9 Womens                                                      1\n",
      "Roper Western Boots Women Camo Glitter Square Pink 09-021-1901-0192 Pi                                                          1\n",
      "Brinley Co. Womens Multi Fabric Fashion Boots                                                                                   1\n",
      "Nina Falana-vg Women Us 6 Silver Sandals Pre Owned 1904                                                                         1\n",
      "Rayna Patent Leather Pump                                                                                                       1\n",
      "103-alba, 0'' Microfiber Boot                                                                                                   1\n",
      "New Steve Madden Slippers House Shoes Size 5 6 Small Red Fluffy Slides                                                          1\n",
      "Demonia Tesla-107 Women's Hidden Platform Mid Calf Boots                                                                        1\n",
      "'allie' Ballet Flat (women) (nordstrom Exclusive)                                                                               1\n",
      "Splashy-3020, 11'' Heel, 9 3/4''  Thigh Boot                                                                                    1\n",
      "Women's Ivory Short Suede Boot - Black                                                                                          1\n",
      "Womens Kenneth Cole Reaction Let It Knock Square Toe Wedge Sandals - Vanilla                                                    1\n",
      "Kiss-210, 6'' Spike Heel Sandal                                                                                                 1\n",
      "Franco Sarto 6088 New Womens Brown Leather Strap Sandals 11 Medium (b,m) Bhfo                                                   1\n",
      "Skechers D-lite Women's Fashion Sneakers Shoes Size 8                                                                           1\n",
      "Trotters Women's 'Jamie' Basic Textile Dress Shoes                                                                              1\n",
      "Lace Sneaker (women)                                                                                                            1\n",
      "Name: name, dtype: int64\n",
      "\n",
      "Frequency of Categories for varible prices.condition\n",
      "new                        8692\n",
      "New                        1428\n",
      "New with box                404\n",
      "Pre-owned                   247\n",
      "New without box             127\n",
      "New with defects            105\n",
      "New without tags             15\n",
      "New with tags                12\n",
      "Brand New                     3\n",
      "New other (see details)       2\n",
      "Name: prices.condition, dtype: int64\n",
      "\n",
      "Frequency of Categories for varible prices.currency\n",
      "USD    32816\n",
      "Name: prices.currency, dtype: int64\n",
      "\n",
      "Frequency of Categories for varible prices.offer\n",
      "No     26077\n",
      "Yes     6739\n",
      "Name: prices.offer, dtype: int64\n",
      "\n",
      "Frequency of Categories for varible prices.returnPolicy\n",
      "The full amount will be credited to the original tender (credit card, gift card, or online gift certificate) if returned within 60 days of the ship date on your invoice and accompanied by the original invoice. The current selling price will be credited if returned after 60 days and accompanied by the original invoice.                                                                       985\n",
      "FREE SHIPPING & FREE RETURNS Join SHOES.com as an Elite member for 365 days of Next Day shipping for a low, one-time payment of $44.95. DETAILS                                                                                                                                                                                                                                                       261\n",
      "FREE SHIPPING & FREE RETURNS                                                                                                                                                                                                                                                                                                                                                                           93\n",
      "FREE SHIPPING & FREE RETURNS Join SHOES.com as an Elite member for 365 days of Next Day shipping for a low, one-time payment of $24.95. DETAILS                                                                                                                                                                                                                                                        19\n",
      "This item should only be returned to the warehouse from which it was originally shipped. Use the pre-addressed return shipping label attached to the packing slip included with your shipment. In the event that you have misplaced your packing slip, this product should be sent to the address below: The Bon-Ton Stores, Inc. ATTN: Returns 1340 Dayton-Yellow Springs Road Fairborn, OH 45324     10\n",
      "Most products at Autoplicity.com are eligible for return within 30 days of the shipment date. Contact our Customer Service Department at 800-299-1028 to request approval for a return or email support@autoplicity.com. All items must be returned in new, un-used condition, contain original packaging and documentation and contain all hardware and accessories                                    4\n",
      "90-Day                                                                                                                                                                                                                                                                                                                                                                                                  2\n",
      "Name: prices.returnPolicy, dtype: int64\n",
      "\n",
      "Frequency of Categories for varible prices.shippingFree\n",
      "Yes    2228\n",
      "No      735\n",
      "Name: prices.shippingFree, dtype: int64\n"
     ]
    }
   ],
   "source": [
    "#Filter categorical variables\n",
    "categorical_columns = [x for x in data.dtypes.index if data.dtypes[x]=='object']\n",
    "#Exclude ID col:\n",
    "categorical_columns = [x for x in categorical_columns if x not in ['id','source']]\n",
    "#Print frequency of categories\n",
    "for col in categorical_columns:\n",
    "    print '\\nFrequency of Categories for varible %s'%col\n",
    "    print data[col].value_counts()"
   ]
  },
  {
   "cell_type": "markdown",
   "metadata": {},
   "source": [
    "This part ends our basic exploration of data. Lets start with data cleaning."
   ]
  },
  {
   "cell_type": "markdown",
   "metadata": {},
   "source": [
    "## 3.1 Missing Value Treatment"
   ]
  },
  {
   "cell_type": "code",
   "execution_count": 90,
   "metadata": {},
   "outputs": [
    {
     "data": {
      "text/plain": [
       "id                         0\n",
       "brand                      0\n",
       "categories                 0\n",
       "colors                 13576\n",
       "name                       0\n",
       "prices.amountMin           0\n",
       "prices.amountMax           0\n",
       "prices.condition       21781\n",
       "prices.currency            0\n",
       "prices.isSale              0\n",
       "prices.offer               0\n",
       "prices.returnPolicy    31442\n",
       "prices.shippingFree    29853\n",
       "source                     0\n",
       "dtype: int64"
      ]
     },
     "execution_count": 90,
     "metadata": {},
     "output_type": "execute_result"
    }
   ],
   "source": [
    "data.apply(lambda x: sum(x.isnull()))"
   ]
  },
  {
   "cell_type": "markdown",
   "metadata": {},
   "source": [
    "It can be noted that all the missing value variables are categorical in nature\n",
    "So we need to perform mode imputation on it\n"
   ]
  },
  {
   "cell_type": "code",
   "execution_count": 91,
   "metadata": {},
   "outputs": [],
   "source": [
    "#Load libs\n",
    "from scipy.stats import mode"
   ]
  },
  {
   "cell_type": "code",
   "execution_count": 92,
   "metadata": {},
   "outputs": [
    {
     "data": {
      "text/plain": [
       "Black     2907\n",
       "Brown      962\n",
       "White      680\n",
       "Blue       604\n",
       "Silver     383\n",
       "Name: colors, dtype: int64"
      ]
     },
     "execution_count": 92,
     "metadata": {},
     "output_type": "execute_result"
    }
   ],
   "source": [
    "#Let us first deal with -- Color Variable -- \n",
    "data.colors.value_counts().head()"
   ]
  },
  {
   "cell_type": "code",
   "execution_count": 98,
   "metadata": {},
   "outputs": [
    {
     "name": "stdout",
     "output_type": "stream",
     "text": [
      "Mode for each color:\n",
      "id\n",
      "AVpe--5gLJeJML43zzQk                                     Brown\n",
      "AVpe--8X1cnluZ0-bU1d              Black,Driftwood,Gray,Marsala\n",
      "AVpe--oTilAPnD_xSXfv                                      Gold\n",
      "AVpe--qs1cnluZ0-bUuE                                     Black\n",
      "AVpe-0Aq1cnluZ0-bQ3U                                      Blue\n",
      "AVpe-0F4LJeJML43zvWi                 Black,Turquoise,Pink,Navy\n",
      "AVpe-0U9ilAPnD_xSTyK                                     Black\n",
      "AVpe-16y1cnluZ0-bRin                           Champagne,Black\n",
      "AVpe-1Q21cnluZ0-bRT8                                     Black\n",
      "AVpe-2AiLJeJML43zwCU                                         0\n",
      "AVpe-30jLJeJML43zwsb                             Brown,Luggage\n",
      "AVpe-3J9LJeJML43zwda                                         0\n",
      "AVpe-3a21cnluZ0-bSGT                                      Pink\n",
      "AVpe-4D5ilAPnD_xSVH2                                         0\n",
      "AVpe-4QcLJeJML43zw3m                                     Black\n",
      "AVpe-53mLJeJML43zxYV     Blue,Navy,Chocolate,Beige,Dolphinblue\n",
      "AVpe-65aLJeJML43zxxk                      White,Tan,Black,Gold\n",
      "AVpe-6d3ilAPnD_xSV9A                                         0\n",
      "AVpe-6fxLJeJML43zxnv                               Beige,Black\n",
      "AVpe-6wSLJeJML43zxtp                                         0\n",
      "AVpe-6zL1cnluZ0-bTTI                                     Black\n",
      "AVpe-9xcLJeJML43zy1V                                     Black\n",
      "AVpe-As0ilAPnD_xSBcX                                         0\n",
      "AVpe-AxrilAPnD_xSBdt                                     Beige\n",
      "AVpe-CttilAPnD_xSCLa    Grey Leopard,Natural Snake,Tan Leopard\n",
      "AVpe-D2pLJeJML43zeSa                                     Black\n",
      "AVpe-DStLJeJML43zeGm                                         0\n",
      "AVpe-EDs1cnluZ0-a_33                                     Black\n",
      "AVpe-EypLJeJML43zem1                             Flamingo Mint\n",
      "AVpe-Ez6ilAPnD_xSC52                                         0\n",
      "                                         ...                  \n",
      "AVsUuz_3v8e3D1O-mExH                                         0\n",
      "AVsUuz_Rnnc1JgDc4L0_                                         0\n",
      "AVsUuz_Znnc1JgDc4L1A                                         0\n",
      "AVsUuz_uv8e3D1O-mExG                                         0\n",
      "AVsUvA-Dnnc1JgDc4L6T                                         0\n",
      "AVsUvA-oQMlgsOJE7HG4                                         0\n",
      "AVsUvAQav8e3D1O-mE3E                                         0\n",
      "AVsUvBE-QMlgsOJE7HG-                                         0\n",
      "AVsUvBEqQMlgsOJE7HG9                                         0\n",
      "AVsUvBGpQMlgsOJE7HG_                                         0\n",
      "AVsUvBQ-v8e3D1O-mE3Z                                         0\n",
      "AVsUvBSZv8e3D1O-mE3a                                         0\n",
      "AVsUvBT_v8e3D1O-mE3i                                         0\n",
      "AVsUvBgbQMlgsOJE7HHJ                                         0\n",
      "AVsUvBhMU2_QcyX9PbKI                                         0\n",
      "AVsUvBi-v8e3D1O-mE3n                                      Blue\n",
      "AVsUvBjqv8e3D1O-mE3q                                         0\n",
      "AVsUwKV2v8e3D1O-mFKp                                       Red\n",
      "AVsUwKVMU2_QcyX9Pbcu                                       Red\n",
      "AVsUwKViQMlgsOJE7HbH                                      Grey\n",
      "AVsUwKVqU2_QcyX9Pbcv                                      Grey\n",
      "AVsUwKWHnnc1JgDc4MNZ                                      Grey\n",
      "AVsUwKWZU2_QcyX9Pbcw                                     Beige\n",
      "AVsUx0bQU2_QcyX9Pb1X                                     Black\n",
      "AVsUx0dwQMlgsOJE7H0Y                                       Red\n",
      "AVsUxYtDQMlgsOJE7Hsq                                       Red\n",
      "AVsUxZClnnc1JgDc4Mev                                      Blue\n",
      "AVsUyEcaU2_QcyX9Pb4g                                       Red\n",
      "AVticmzVnnc1JgDc5Uym                                         0\n",
      "AVtidDQ-nnc1JgDc5U4Q                                         0\n",
      "Name: colors, dtype: object\n",
      "\n",
      "Orignal #missing: 13576\n",
      "0\n"
     ]
    }
   ],
   "source": [
    "#Determing the mode for each\n",
    "color_mode = data.pivot_table(values='colors', columns='id',aggfunc=(lambda x:mode(x).mode[0]) )\n",
    "print 'Mode for each color:'\n",
    "print color_mode\n",
    "#Get a boolean variable specifying missing values\n",
    "miss_bool = data['colors'].isnull() \n",
    "\n",
    "#Impute data and check #missing values before and after imputation to confirm\n",
    "print '\\nOrignal #missing: %d'% sum(miss_bool)\n",
    "data.loc[miss_bool,'colors'] = data.loc[miss_bool,'id'].apply(lambda x: color_mode[x])\n",
    "print sum(data['colors'].isnull())"
   ]
  },
  {
   "cell_type": "code",
   "execution_count": 99,
   "metadata": {},
   "outputs": [
    {
     "data": {
      "text/plain": [
       "id                     0\n",
       "brand                  0\n",
       "categories             0\n",
       "colors                 0\n",
       "name                   0\n",
       "prices.amountMin       0\n",
       "prices.amountMax       0\n",
       "prices.condition       0\n",
       "prices.currency        0\n",
       "prices.isSale          0\n",
       "prices.offer           0\n",
       "prices.returnPolicy    0\n",
       "prices.shippingFree    0\n",
       "source                 0\n",
       "dtype: int64"
      ]
     },
     "execution_count": 99,
     "metadata": {},
     "output_type": "execute_result"
    }
   ],
   "source": [
    "data.apply(lambda x: sum(x.isnull()))"
   ]
  },
  {
   "cell_type": "markdown",
   "metadata": {},
   "source": [
    "Now let us impute the \"condition variable\""
   ]
  },
  {
   "cell_type": "code",
   "execution_count": 94,
   "metadata": {},
   "outputs": [
    {
     "name": "stdout",
     "output_type": "stream",
     "text": [
      "Mode for each condition:\n",
      "id\n",
      "AVpe--5gLJeJML43zzQk             new\n",
      "AVpe--8X1cnluZ0-bU1d             new\n",
      "AVpe--oTilAPnD_xSXfv       Pre-owned\n",
      "AVpe--qs1cnluZ0-bUuE       Pre-owned\n",
      "AVpe-0Aq1cnluZ0-bQ3U       Pre-owned\n",
      "AVpe-0F4LJeJML43zvWi             New\n",
      "AVpe-0U9ilAPnD_xSTyK               0\n",
      "AVpe-16y1cnluZ0-bRin               0\n",
      "AVpe-1Q21cnluZ0-bRT8             new\n",
      "AVpe-2AiLJeJML43zwCU             new\n",
      "AVpe-30jLJeJML43zwsb             new\n",
      "AVpe-3J9LJeJML43zwda             new\n",
      "AVpe-3a21cnluZ0-bSGT             new\n",
      "AVpe-4D5ilAPnD_xSVH2             new\n",
      "AVpe-4QcLJeJML43zw3m             new\n",
      "AVpe-53mLJeJML43zxYV             new\n",
      "AVpe-65aLJeJML43zxxk             new\n",
      "AVpe-6d3ilAPnD_xSV9A             new\n",
      "AVpe-6fxLJeJML43zxnv             new\n",
      "AVpe-6wSLJeJML43zxtp               0\n",
      "AVpe-6zL1cnluZ0-bTTI             new\n",
      "AVpe-9xcLJeJML43zy1V             new\n",
      "AVpe-As0ilAPnD_xSBcX             new\n",
      "AVpe-AxrilAPnD_xSBdt             new\n",
      "AVpe-CttilAPnD_xSCLa             new\n",
      "AVpe-D2pLJeJML43zeSa               0\n",
      "AVpe-DStLJeJML43zeGm             new\n",
      "AVpe-EDs1cnluZ0-a_33             new\n",
      "AVpe-EypLJeJML43zem1    New with box\n",
      "AVpe-Ez6ilAPnD_xSC52             new\n",
      "                            ...     \n",
      "AVsUuz_3v8e3D1O-mExH               0\n",
      "AVsUuz_Rnnc1JgDc4L0_               0\n",
      "AVsUuz_Znnc1JgDc4L1A               0\n",
      "AVsUuz_uv8e3D1O-mExG               0\n",
      "AVsUvA-Dnnc1JgDc4L6T               0\n",
      "AVsUvA-oQMlgsOJE7HG4               0\n",
      "AVsUvAQav8e3D1O-mE3E               0\n",
      "AVsUvBE-QMlgsOJE7HG-               0\n",
      "AVsUvBEqQMlgsOJE7HG9               0\n",
      "AVsUvBGpQMlgsOJE7HG_               0\n",
      "AVsUvBQ-v8e3D1O-mE3Z               0\n",
      "AVsUvBSZv8e3D1O-mE3a               0\n",
      "AVsUvBT_v8e3D1O-mE3i               0\n",
      "AVsUvBgbQMlgsOJE7HHJ               0\n",
      "AVsUvBhMU2_QcyX9PbKI               0\n",
      "AVsUvBi-v8e3D1O-mE3n               0\n",
      "AVsUvBjqv8e3D1O-mE3q               0\n",
      "AVsUwKV2v8e3D1O-mFKp               0\n",
      "AVsUwKVMU2_QcyX9Pbcu               0\n",
      "AVsUwKViQMlgsOJE7HbH               0\n",
      "AVsUwKVqU2_QcyX9Pbcv               0\n",
      "AVsUwKWHnnc1JgDc4MNZ               0\n",
      "AVsUwKWZU2_QcyX9Pbcw               0\n",
      "AVsUx0bQU2_QcyX9Pb1X               0\n",
      "AVsUx0dwQMlgsOJE7H0Y               0\n",
      "AVsUxYtDQMlgsOJE7Hsq               0\n",
      "AVsUxZClnnc1JgDc4Mev               0\n",
      "AVsUyEcaU2_QcyX9Pb4g               0\n",
      "AVticmzVnnc1JgDc5Uym               0\n",
      "AVtidDQ-nnc1JgDc5U4Q               0\n",
      "Name: prices.condition, dtype: object\n",
      "\n",
      "Orignal #missing: 21781\n",
      "0\n"
     ]
    }
   ],
   "source": [
    "#Determing the mode for each\n",
    "condition_mode = data.pivot_table(values='prices.condition', columns='id',aggfunc=(lambda x:mode(x).mode[0]) )\n",
    "print 'Mode for each condition:'\n",
    "print condition_mode\n",
    "#Get a boolean variable specifying missing values\n",
    "miss_bool2 = data['prices.condition'].isnull() \n",
    "\n",
    "#Impute data and check #missing values before and after imputation to confirm\n",
    "print '\\nOrignal #missing: %d'% sum(miss_bool2)\n",
    "data.loc[miss_bool2,'prices.condition'] = data.loc[miss_bool2,'id'].apply(lambda x: color_mode[x])\n",
    "print sum(data['prices.condition'].isnull())"
   ]
  },
  {
   "cell_type": "markdown",
   "metadata": {},
   "source": [
    "Note: For prices.offer, inorder to simplify, I have transformed this feature with two classes  \"Yes\" or \"No\"\n",
    "\n",
    "Next, lets deal with prices.returnPolicy "
   ]
  },
  {
   "cell_type": "code",
   "execution_count": 95,
   "metadata": {},
   "outputs": [
    {
     "name": "stdout",
     "output_type": "stream",
     "text": [
      "Mode for each returnPolicy:\n",
      "id\n",
      "AVpe--5gLJeJML43zzQk                                                    0\n",
      "AVpe--8X1cnluZ0-bU1d                                                    0\n",
      "AVpe--oTilAPnD_xSXfv                                                    0\n",
      "AVpe--qs1cnluZ0-bUuE                                                    0\n",
      "AVpe-0Aq1cnluZ0-bQ3U                                                    0\n",
      "AVpe-0F4LJeJML43zvWi    The full amount will be credited to the origin...\n",
      "AVpe-0U9ilAPnD_xSTyK                                                    0\n",
      "AVpe-16y1cnluZ0-bRin                                                    0\n",
      "AVpe-1Q21cnluZ0-bRT8                                                    0\n",
      "AVpe-2AiLJeJML43zwCU                                                    0\n",
      "AVpe-30jLJeJML43zwsb                                                    0\n",
      "AVpe-3J9LJeJML43zwda                                                    0\n",
      "AVpe-3a21cnluZ0-bSGT                                                    0\n",
      "AVpe-4D5ilAPnD_xSVH2                                                    0\n",
      "AVpe-4QcLJeJML43zw3m                                                    0\n",
      "AVpe-53mLJeJML43zxYV                                                    0\n",
      "AVpe-65aLJeJML43zxxk                                                    0\n",
      "AVpe-6d3ilAPnD_xSV9A                                                    0\n",
      "AVpe-6fxLJeJML43zxnv                                                    0\n",
      "AVpe-6wSLJeJML43zxtp                                                    0\n",
      "AVpe-6zL1cnluZ0-bTTI                                                    0\n",
      "AVpe-9xcLJeJML43zy1V                                                    0\n",
      "AVpe-As0ilAPnD_xSBcX                                                    0\n",
      "AVpe-AxrilAPnD_xSBdt                                                    0\n",
      "AVpe-CttilAPnD_xSCLa                                                    0\n",
      "AVpe-D2pLJeJML43zeSa                                                    0\n",
      "AVpe-DStLJeJML43zeGm                                                    0\n",
      "AVpe-EDs1cnluZ0-a_33                                                    0\n",
      "AVpe-EypLJeJML43zem1                                                    0\n",
      "AVpe-Ez6ilAPnD_xSC52                                                    0\n",
      "                                              ...                        \n",
      "AVsUuz_3v8e3D1O-mExH                                                    0\n",
      "AVsUuz_Rnnc1JgDc4L0_                                                    0\n",
      "AVsUuz_Znnc1JgDc4L1A                                                    0\n",
      "AVsUuz_uv8e3D1O-mExG                                                    0\n",
      "AVsUvA-Dnnc1JgDc4L6T                                                    0\n",
      "AVsUvA-oQMlgsOJE7HG4                                                    0\n",
      "AVsUvAQav8e3D1O-mE3E                                                    0\n",
      "AVsUvBE-QMlgsOJE7HG-                                                    0\n",
      "AVsUvBEqQMlgsOJE7HG9                                                    0\n",
      "AVsUvBGpQMlgsOJE7HG_                                                    0\n",
      "AVsUvBQ-v8e3D1O-mE3Z                                                    0\n",
      "AVsUvBSZv8e3D1O-mE3a                                                    0\n",
      "AVsUvBT_v8e3D1O-mE3i                                                    0\n",
      "AVsUvBgbQMlgsOJE7HHJ                                                    0\n",
      "AVsUvBhMU2_QcyX9PbKI                                                    0\n",
      "AVsUvBi-v8e3D1O-mE3n                                                    0\n",
      "AVsUvBjqv8e3D1O-mE3q                                                    0\n",
      "AVsUwKV2v8e3D1O-mFKp                                                    0\n",
      "AVsUwKVMU2_QcyX9Pbcu                                                    0\n",
      "AVsUwKViQMlgsOJE7HbH                                                    0\n",
      "AVsUwKVqU2_QcyX9Pbcv                                                    0\n",
      "AVsUwKWHnnc1JgDc4MNZ                                                    0\n",
      "AVsUwKWZU2_QcyX9Pbcw                                                    0\n",
      "AVsUx0bQU2_QcyX9Pb1X                                                    0\n",
      "AVsUx0dwQMlgsOJE7H0Y                                                    0\n",
      "AVsUxYtDQMlgsOJE7Hsq                                                    0\n",
      "AVsUxZClnnc1JgDc4Mev                                                    0\n",
      "AVsUyEcaU2_QcyX9Pb4g                                                    0\n",
      "AVticmzVnnc1JgDc5Uym                                                    0\n",
      "AVtidDQ-nnc1JgDc5U4Q                                                    0\n",
      "Name: prices.returnPolicy, dtype: object\n",
      "\n",
      "Orignal #missing: 31442\n",
      "0\n"
     ]
    }
   ],
   "source": [
    "#Determing the mode for each\n",
    "return_mode = data.pivot_table(values='prices.returnPolicy', columns='id',aggfunc=(lambda x:mode(x).mode[0]) )\n",
    "print 'Mode for each returnPolicy:'\n",
    "print return_mode\n",
    "#Get a boolean variable specifying missing values\n",
    "miss_bool2 = data['prices.returnPolicy'].isnull() \n",
    "\n",
    "#Impute data and check #missing values before and after imputation to confirm\n",
    "print '\\nOrignal #missing: %d'% sum(miss_bool2)\n",
    "data.loc[miss_bool2,'prices.returnPolicy'] = data.loc[miss_bool2,'id'].apply(lambda x: color_mode[x])\n",
    "print sum(data['prices.returnPolicy'].isnull())"
   ]
  },
  {
   "cell_type": "markdown",
   "metadata": {},
   "source": [
    "Next feature is prices.shipping "
   ]
  },
  {
   "cell_type": "markdown",
   "metadata": {},
   "source": [
    "I converted it to prices.shippingFree that shows if the shipping is \"free\" or \"not\". Imputing values now."
   ]
  },
  {
   "cell_type": "code",
   "execution_count": 96,
   "metadata": {},
   "outputs": [
    {
     "name": "stdout",
     "output_type": "stream",
     "text": [
      "Mode for each shippingFree:\n",
      "id\n",
      "AVpe--5gLJeJML43zzQk      0\n",
      "AVpe--8X1cnluZ0-bU1d      0\n",
      "AVpe--oTilAPnD_xSXfv     No\n",
      "AVpe--qs1cnluZ0-bUuE     No\n",
      "AVpe-0Aq1cnluZ0-bQ3U     No\n",
      "AVpe-0F4LJeJML43zvWi    Yes\n",
      "AVpe-0U9ilAPnD_xSTyK     No\n",
      "AVpe-16y1cnluZ0-bRin      0\n",
      "AVpe-1Q21cnluZ0-bRT8      0\n",
      "AVpe-2AiLJeJML43zwCU      0\n",
      "AVpe-30jLJeJML43zwsb      0\n",
      "AVpe-3J9LJeJML43zwda      0\n",
      "AVpe-3a21cnluZ0-bSGT      0\n",
      "AVpe-4D5ilAPnD_xSVH2      0\n",
      "AVpe-4QcLJeJML43zw3m      0\n",
      "AVpe-53mLJeJML43zxYV      0\n",
      "AVpe-65aLJeJML43zxxk      0\n",
      "AVpe-6d3ilAPnD_xSV9A      0\n",
      "AVpe-6fxLJeJML43zxnv      0\n",
      "AVpe-6wSLJeJML43zxtp      0\n",
      "AVpe-6zL1cnluZ0-bTTI      0\n",
      "AVpe-9xcLJeJML43zy1V      0\n",
      "AVpe-As0ilAPnD_xSBcX      0\n",
      "AVpe-AxrilAPnD_xSBdt      0\n",
      "AVpe-CttilAPnD_xSCLa      0\n",
      "AVpe-D2pLJeJML43zeSa      0\n",
      "AVpe-DStLJeJML43zeGm      0\n",
      "AVpe-EDs1cnluZ0-a_33      0\n",
      "AVpe-EypLJeJML43zem1    Yes\n",
      "AVpe-Ez6ilAPnD_xSC52      0\n",
      "                       ... \n",
      "AVsUuz_3v8e3D1O-mExH      0\n",
      "AVsUuz_Rnnc1JgDc4L0_      0\n",
      "AVsUuz_Znnc1JgDc4L1A      0\n",
      "AVsUuz_uv8e3D1O-mExG      0\n",
      "AVsUvA-Dnnc1JgDc4L6T      0\n",
      "AVsUvA-oQMlgsOJE7HG4      0\n",
      "AVsUvAQav8e3D1O-mE3E      0\n",
      "AVsUvBE-QMlgsOJE7HG-      0\n",
      "AVsUvBEqQMlgsOJE7HG9      0\n",
      "AVsUvBGpQMlgsOJE7HG_      0\n",
      "AVsUvBQ-v8e3D1O-mE3Z      0\n",
      "AVsUvBSZv8e3D1O-mE3a      0\n",
      "AVsUvBT_v8e3D1O-mE3i      0\n",
      "AVsUvBgbQMlgsOJE7HHJ      0\n",
      "AVsUvBhMU2_QcyX9PbKI      0\n",
      "AVsUvBi-v8e3D1O-mE3n      0\n",
      "AVsUvBjqv8e3D1O-mE3q      0\n",
      "AVsUwKV2v8e3D1O-mFKp      0\n",
      "AVsUwKVMU2_QcyX9Pbcu      0\n",
      "AVsUwKViQMlgsOJE7HbH      0\n",
      "AVsUwKVqU2_QcyX9Pbcv      0\n",
      "AVsUwKWHnnc1JgDc4MNZ      0\n",
      "AVsUwKWZU2_QcyX9Pbcw      0\n",
      "AVsUx0bQU2_QcyX9Pb1X      0\n",
      "AVsUx0dwQMlgsOJE7H0Y      0\n",
      "AVsUxYtDQMlgsOJE7Hsq      0\n",
      "AVsUxZClnnc1JgDc4Mev      0\n",
      "AVsUyEcaU2_QcyX9Pb4g      0\n",
      "AVticmzVnnc1JgDc5Uym      0\n",
      "AVtidDQ-nnc1JgDc5U4Q      0\n",
      "Name: prices.shippingFree, dtype: object\n",
      "\n",
      "Orignal #missing: 29853\n",
      "0\n"
     ]
    }
   ],
   "source": [
    "#Determing the mode for each\n",
    "shipping_mode = data.pivot_table(values='prices.shippingFree', columns='id',aggfunc=(lambda x:mode(x).mode[0]) )\n",
    "print 'Mode for each shippingFree:'\n",
    "print shipping_mode\n",
    "#Get a boolean variable specifying missing values\n",
    "miss_bool3 = data['prices.shippingFree'].isnull() \n",
    "\n",
    "#Impute data and check #missing values before and after imputation to confirm\n",
    "print '\\nOrignal #missing: %d'% sum(miss_bool3)\n",
    "data.loc[miss_bool3,'prices.shippingFree'] = data.loc[miss_bool3,'id'].apply(lambda x: color_mode[x])\n",
    "print sum(data['prices.shippingFree'].isnull())"
   ]
  },
  {
   "cell_type": "code",
   "execution_count": 100,
   "metadata": {},
   "outputs": [
    {
     "data": {
      "text/plain": [
       "id                     0\n",
       "brand                  0\n",
       "categories             0\n",
       "colors                 0\n",
       "name                   0\n",
       "prices.amountMin       0\n",
       "prices.amountMax       0\n",
       "prices.condition       0\n",
       "prices.currency        0\n",
       "prices.isSale          0\n",
       "prices.offer           0\n",
       "prices.returnPolicy    0\n",
       "prices.shippingFree    0\n",
       "source                 0\n",
       "dtype: int64"
      ]
     },
     "execution_count": 100,
     "metadata": {},
     "output_type": "execute_result"
    }
   ],
   "source": [
    "data.apply(lambda x: sum(x.isnull()))"
   ]
  },
  {
   "cell_type": "markdown",
   "metadata": {},
   "source": [
    "That's it, now we have a clean data. "
   ]
  },
  {
   "cell_type": "markdown",
   "metadata": {},
   "source": [
    "## 4. Feature Engineering\n",
    "\n",
    "Here, we can add, combine, modify features inorder to create a better model <br>\n",
    "With regards to this dataset, price.currency is in USD, CAD, GBP, AUD <br>\n",
    "I converted all the prices to USD"
   ]
  },
  {
   "cell_type": "markdown",
   "metadata": {},
   "source": [
    "## 5. Modeling \n",
    "\n",
    "Since scikit-learn accepts only numerical variables, I converted all categories of nominal variables into numeric types.\n",
    "<br> Lets start with coding all categorical variables as numeric using ‘LabelEncoder’ from sklearn’s preprocessing module.\n"
   ]
  },
  {
   "cell_type": "code",
   "execution_count": 101,
   "metadata": {},
   "outputs": [
    {
     "data": {
      "text/plain": [
       "id                     9112\n",
       "brand                  1360\n",
       "categories              875\n",
       "colors                 1827\n",
       "name                   8856\n",
       "prices.amountMin       3388\n",
       "prices.amountMax       3244\n",
       "prices.condition        854\n",
       "prices.currency           1\n",
       "prices.isSale             2\n",
       "prices.offer              2\n",
       "prices.returnPolicy    1773\n",
       "prices.shippingFree    1598\n",
       "source                    2\n",
       "dtype: int64"
      ]
     },
     "execution_count": 101,
     "metadata": {},
     "output_type": "execute_result"
    }
   ],
   "source": [
    "data.apply(lambda x: len(x.unique()))"
   ]
  },
  {
   "cell_type": "code",
   "execution_count": 102,
   "metadata": {},
   "outputs": [],
   "source": [
    "#Import library:\n",
    "from sklearn.preprocessing import LabelEncoder\n",
    "le = LabelEncoder()\n",
    "var_mod = ['id','brand','categories','colors','name','prices.condition', 'prices.currency','prices.isSale','prices.offer','prices.returnPolicy','prices.shippingFree']\n",
    "le = LabelEncoder()\n",
    "for i in var_mod:\n",
    "    data[i] = le.fit_transform(data[i])"
   ]
  },
  {
   "cell_type": "code",
   "execution_count": 103,
   "metadata": {},
   "outputs": [
    {
     "name": "stderr",
     "output_type": "stream",
     "text": [
      "c:\\python27\\lib\\site-packages\\ipykernel_launcher.py:8: SettingWithCopyWarning: \n",
      "A value is trying to be set on a copy of a slice from a DataFrame\n",
      "\n",
      "See the caveats in the documentation: http://pandas.pydata.org/pandas-docs/stable/indexing.html#indexing-view-versus-copy\n",
      "  \n"
     ]
    }
   ],
   "source": [
    "#Splitting Test and Train again\n",
    "\n",
    "#Divide into test and train:\n",
    "train = data.loc[data['source']==\"train\"]\n",
    "test = data.loc[data['source']==\"test\"]\n",
    "\n",
    "#Drop unnecessary columns:\n",
    "train.drop(['source'],axis=1,inplace=True)\n",
    "\n",
    "#Export files as modified versions:\n",
    "train.to_csv(\"train_modified.csv\",index=False)\n",
    "test.to_csv(\"test_modified.csv\",index=False)"
   ]
  },
  {
   "cell_type": "markdown",
   "metadata": {},
   "source": [
    "## Linear Regression"
   ]
  },
  {
   "cell_type": "code",
   "execution_count": 106,
   "metadata": {},
   "outputs": [],
   "source": [
    "#prices.amountMin\n",
    "#Define target and ID columns. Lets find prices.amountMin\n",
    "target = 'prices.amountMin'\n",
    "IDcol = ['id']\n",
    "from sklearn import cross_validation, metrics\n",
    "def modelfit(alg, dtrain, dtest, predictors, target, IDcol, filename):\n",
    "    #Fit the algorithm on the data\n",
    "    alg.fit(dtrain[predictors], dtrain[target])\n",
    "        \n",
    "    #Predict training set:\n",
    "    dtrain_predictions = alg.predict(dtrain[predictors])\n",
    "\n",
    "    #Perform cross-validation:\n",
    "    cv_score = cross_validation.cross_val_score(alg, dtrain[predictors], dtrain[target], cv=20, scoring='neg_mean_squared_error')\n",
    "    cv_score = np.sqrt(np.abs(cv_score))\n",
    "    \n",
    "    #Print model report:\n",
    "    print \"\\nModel Report\"\n",
    "    print \"RMSE : %.4g\" % np.sqrt(metrics.mean_squared_error(dtrain[target].values, dtrain_predictions))\n",
    "    print \"CV Score : Mean - %.4g | Std - %.4g | Min - %.4g | Max - %.4g\" % (np.mean(cv_score),np.std(cv_score),np.min(cv_score),np.max(cv_score))\n",
    "    \n",
    "    #Predict on testing data:\n",
    "    dtest[target] = alg.predict(dtest[predictors])\n",
    "    \n",
    "    #Export submission file:\n",
    "    IDcol.append(target)\n",
    "    submission = pd.DataFrame({ x: dtest[x] for x in IDcol})\n",
    "    submission.to_csv(filename, index=False)"
   ]
  },
  {
   "cell_type": "code",
   "execution_count": 107,
   "metadata": {},
   "outputs": [
    {
     "name": "stdout",
     "output_type": "stream",
     "text": [
      "\n",
      "Model Report\n",
      "RMSE : 28.6\n",
      "CV Score : Mean - 16.7 | Std - 24.69 | Min - 2.059 | Max - 122.6\n"
     ]
    },
    {
     "name": "stderr",
     "output_type": "stream",
     "text": [
      "c:\\python27\\lib\\site-packages\\ipykernel_launcher.py:22: SettingWithCopyWarning: \n",
      "A value is trying to be set on a copy of a slice from a DataFrame.\n",
      "Try using .loc[row_indexer,col_indexer] = value instead\n",
      "\n",
      "See the caveats in the documentation: http://pandas.pydata.org/pandas-docs/stable/indexing.html#indexing-view-versus-copy\n"
     ]
    },
    {
     "data": {
      "text/plain": [
       "<matplotlib.axes._subplots.AxesSubplot at 0x16822450>"
      ]
     },
     "execution_count": 107,
     "metadata": {},
     "output_type": "execute_result"
    },
    {
     "data": {
      "image/png": "[encoded data removed]",
      "text/plain": [
       "<matplotlib.figure.Figure at 0x165670d0>"
      ]
     },
     "metadata": {},
     "output_type": "display_data"
    }
   ],
   "source": [
    "from sklearn.linear_model import LinearRegression, Ridge, Lasso\n",
    "predictors = [x for x in train.columns if x not in [target]+IDcol]\n",
    "# print predictors\n",
    "alg1 = LinearRegression(normalize=True)\n",
    "modelfit(alg1, train, test, predictors, target, IDcol, 'alg1.csv')\n",
    "coef1 = pd.Series(alg1.coef_, predictors).sort_values()\n",
    "coef1.plot(kind='bar', title='Model Coefficients')"
   ]
  },
  {
   "cell_type": "code",
   "execution_count": 119,
   "metadata": {},
   "outputs": [],
   "source": [
    "#prices.amountMax\n",
    "#Define target and ID columns. Lets find prices.amountMax\n",
    "target = 'prices.amountMax'\n",
    "IDcol = ['id']\n",
    "from sklearn import cross_validation, metrics\n",
    "def modelfit(alg, dtrain, dtest, predictors, target, IDcol, filename):\n",
    "    #Fit the algorithm on the data\n",
    "    alg.fit(dtrain[predictors], dtrain[target])\n",
    "        \n",
    "    #Predict training set:\n",
    "    dtrain_predictions = alg.predict(dtrain[predictors])\n",
    "    #Perform cross-validation:\n",
    "    cv_score = cross_validation.cross_val_score(alg, dtrain[predictors], dtrain[target], cv=20, scoring='neg_mean_squared_error')\n",
    "    cv_score = np.sqrt(np.abs(cv_score))\n",
    "    \n",
    "    #Print model report:\n",
    "    print \"\\nModel Report\"\n",
    "    print \"RMSE : %.4g\" % np.sqrt(metrics.mean_squared_error(dtrain[target].values, dtrain_predictions))\n",
    "    print \"CV Score : Mean - %.4g | Std - %.4g | Min - %.4g | Max - %.4g\" % (np.mean(cv_score),np.std(cv_score),np.min(cv_score),np.max(cv_score))\n",
    "    \n",
    "    #Predict on testing data:\n",
    "    dtest[target] = alg.predict(dtest[predictors])\n",
    "    \n",
    "    #Export submission file:\n",
    "    IDcol.append(target)\n",
    "    submission = pd.DataFrame({ x: dtest[x] for x in IDcol})\n",
    "    submission.to_csv(filename, index=False)"
   ]
  },
  {
   "cell_type": "code",
   "execution_count": 108,
   "metadata": {},
   "outputs": [
    {
     "name": "stdout",
     "output_type": "stream",
     "text": [
      "\n",
      "Model Report\n",
      "RMSE : 28.6\n",
      "CV Score : Mean - 16.7 | Std - 24.69 | Min - 2.059 | Max - 122.6\n"
     ]
    },
    {
     "name": "stderr",
     "output_type": "stream",
     "text": [
      "c:\\python27\\lib\\site-packages\\ipykernel_launcher.py:22: SettingWithCopyWarning: \n",
      "A value is trying to be set on a copy of a slice from a DataFrame.\n",
      "Try using .loc[row_indexer,col_indexer] = value instead\n",
      "\n",
      "See the caveats in the documentation: http://pandas.pydata.org/pandas-docs/stable/indexing.html#indexing-view-versus-copy\n"
     ]
    },
    {
     "data": {
      "text/plain": [
       "<matplotlib.axes._subplots.AxesSubplot at 0x10dcb1b0>"
      ]
     },
     "execution_count": 108,
     "metadata": {},
     "output_type": "execute_result"
    },
    {
     "data": {
      "image/png": "[encoded data removed]",
      "text/plain": [
       "<matplotlib.figure.Figure at 0x1677b950>"
      ]
     },
     "metadata": {},
     "output_type": "display_data"
    }
   ],
   "source": [
    "from sklearn.linear_model import LinearRegression, Ridge, Lasso\n",
    "predictors = [x for x in train.columns if x not in [target]+IDcol]\n",
    "# print predictors\n",
    "alg1 = LinearRegression(normalize=True)\n",
    "modelfit(alg1, train, test, predictors, target, IDcol, 'alg1.csv')\n",
    "coef1 = pd.Series(alg1.coef_, predictors).sort_values()\n",
    "coef1.plot(kind='bar', title='Model Coefficients')"
   ]
  },
  {
   "cell_type": "markdown",
   "metadata": {},
   "source": [
    "## Ridge Regression "
   ]
  },
  {
   "cell_type": "code",
   "execution_count": 109,
   "metadata": {},
   "outputs": [
    {
     "name": "stdout",
     "output_type": "stream",
     "text": [
      "\n",
      "Model Report\n",
      "RMSE : 29.75\n",
      "CV Score : Mean - 20.79 | Std - 22.42 | Min - 4.522 | Max - 116\n"
     ]
    },
    {
     "name": "stderr",
     "output_type": "stream",
     "text": [
      "c:\\python27\\lib\\site-packages\\ipykernel_launcher.py:22: SettingWithCopyWarning: \n",
      "A value is trying to be set on a copy of a slice from a DataFrame.\n",
      "Try using .loc[row_indexer,col_indexer] = value instead\n",
      "\n",
      "See the caveats in the documentation: http://pandas.pydata.org/pandas-docs/stable/indexing.html#indexing-view-versus-copy\n"
     ]
    },
    {
     "data": {
      "text/plain": [
       "<matplotlib.axes._subplots.AxesSubplot at 0x1710f130>"
      ]
     },
     "execution_count": 109,
     "metadata": {},
     "output_type": "execute_result"
    },
    {
     "data": {
      "image/png": "[encoded data removed]",
      "text/plain": [
       "<matplotlib.figure.Figure at 0x10dcb7d0>"
      ]
     },
     "metadata": {},
     "output_type": "display_data"
    }
   ],
   "source": [
    "predictors = [x for x in train.columns if x not in [target]+IDcol]\n",
    "alg2 = Ridge(alpha=0.05,normalize=True)\n",
    "modelfit(alg2, train, test, predictors, target, IDcol, 'alg2.csv')\n",
    "coef2 = pd.Series(alg2.coef_, predictors).sort_values()\n",
    "coef2.plot(kind='bar', title='Model Coefficients')"
   ]
  },
  {
   "cell_type": "markdown",
   "metadata": {},
   "source": [
    "## Decision Tree "
   ]
  },
  {
   "cell_type": "code",
   "execution_count": 117,
   "metadata": {},
   "outputs": [
    {
     "name": "stdout",
     "output_type": "stream",
     "text": [
      "\n",
      "Model Report\n",
      "RMSE : 34.7\n",
      "CV Score : Mean - 25.72 | Std - 31.01 | Min - 0.6763 | Max - 140\n"
     ]
    },
    {
     "name": "stderr",
     "output_type": "stream",
     "text": [
      "c:\\python27\\lib\\site-packages\\ipykernel_launcher.py:22: SettingWithCopyWarning: \n",
      "A value is trying to be set on a copy of a slice from a DataFrame.\n",
      "Try using .loc[row_indexer,col_indexer] = value instead\n",
      "\n",
      "See the caveats in the documentation: http://pandas.pydata.org/pandas-docs/stable/indexing.html#indexing-view-versus-copy\n"
     ]
    }
   ],
   "source": [
    "from sklearn.tree import DecisionTreeRegressor\n",
    "predictors = [x for x in train.columns if x not in [target]+IDcol]\n",
    "alg3 = DecisionTreeRegressor(max_depth=15, min_samples_leaf=100)\n",
    "modelfit(alg3, train, test, predictors, target, IDcol, 'alg3.csv')\n",
    "coef3 = pd.Series(alg3.feature_importances_, predictors).sort_values(ascending=False)"
   ]
  },
  {
   "cell_type": "markdown",
   "metadata": {},
   "source": [
    "## RandomForest"
   ]
  },
  {
   "cell_type": "code",
   "execution_count": 116,
   "metadata": {},
   "outputs": [
    {
     "name": "stdout",
     "output_type": "stream",
     "text": [
      "\n",
      "Model Report\n",
      "RMSE : 38.83\n",
      "CV Score : Mean - 27.6 | Std - 29.46 | Min - 2.757 | Max - 145.4\n"
     ]
    },
    {
     "name": "stderr",
     "output_type": "stream",
     "text": [
      "c:\\python27\\lib\\site-packages\\ipykernel_launcher.py:22: SettingWithCopyWarning: \n",
      "A value is trying to be set on a copy of a slice from a DataFrame.\n",
      "Try using .loc[row_indexer,col_indexer] = value instead\n",
      "\n",
      "See the caveats in the documentation: http://pandas.pydata.org/pandas-docs/stable/indexing.html#indexing-view-versus-copy\n"
     ]
    }
   ],
   "source": [
    "from sklearn.ensemble import RandomForestRegressor\n",
    "predictors = [x for x in train.columns if x not in [target]+IDcol]\n",
    "alg5 = RandomForestRegressor(n_estimators=200,max_depth=5, min_samples_leaf=100,n_jobs=4)\n",
    "modelfit(alg5, train, test, predictors, target, IDcol, 'alg5.csv')\n",
    "coef5 = pd.Series(alg5.feature_importances_, predictors).sort_values(ascending=False)"
   ]
  },
  {
   "cell_type": "markdown",
   "metadata": {},
   "source": [
    "## Linear Regression performs the best.\n",
    "\n",
    "This is not the best model since, a lot of feature engineering can be done to further get a better score <br>\n",
    "On account of time constraints, I'm not going to stop this here and work on the feature engineering part. <br>\n",
    "It is a exciting dataset and needs a lot of cleaning. There are JSON data available which can be extremely useful. <br>\n",
    "For now, this should get you started."
   ]
  },
  {
   "cell_type": "markdown",
   "metadata": {},
   "source": [
    "https://github.com/warmachine0609"
   ]
  },
  {
   "cell_type": "code",
   "execution_count": null,
   "metadata": {},
   "outputs": [],
   "source": []
  }
 ],
 "metadata": {
  "kernelspec": {
   "display_name": "Python 2",
   "language": "python",
   "name": "python2"
  },
  "language_info": {
   "codemirror_mode": {
    "name": "ipython",
    "version": 2
   },
   "file_extension": ".py",
   "mimetype": "text/x-python",
   "name": "python",
   "nbconvert_exporter": "python",
   "pygments_lexer": "ipython2",
   "version": "2.7.14"
  }
 },
 "nbformat": 4,
 "nbformat_minor": 2
}
